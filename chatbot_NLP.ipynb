{
  "nbformat": 4,
  "nbformat_minor": 0,
  "metadata": {
    "colab": {
      "provenance": []
    },
    "kernelspec": {
      "name": "python3",
      "display_name": "Python 3"
    },
    "language_info": {
      "name": "python"
    }
  },
  "cells": [
    {
      "cell_type": "code",
      "execution_count": null,
      "metadata": {
        "colab": {
          "base_uri": "https://localhost:8080/"
        },
        "id": "jXzJLPygTTVw",
        "outputId": "ddb90821-ac24-473b-f81d-d8f36db33971"
      },
      "outputs": [
        {
          "output_type": "stream",
          "name": "stdout",
          "text": [
            "Requirement already satisfied: nltk in /usr/local/lib/python3.10/dist-packages (3.9.1)\n",
            "Requirement already satisfied: transformers in /usr/local/lib/python3.10/dist-packages (4.46.2)\n",
            "Requirement already satisfied: click in /usr/local/lib/python3.10/dist-packages (from nltk) (8.1.7)\n",
            "Requirement already satisfied: joblib in /usr/local/lib/python3.10/dist-packages (from nltk) (1.4.2)\n",
            "Requirement already satisfied: regex>=2021.8.3 in /usr/local/lib/python3.10/dist-packages (from nltk) (2024.9.11)\n",
            "Requirement already satisfied: tqdm in /usr/local/lib/python3.10/dist-packages (from nltk) (4.66.6)\n",
            "Requirement already satisfied: filelock in /usr/local/lib/python3.10/dist-packages (from transformers) (3.16.1)\n",
            "Requirement already satisfied: huggingface-hub<1.0,>=0.23.2 in /usr/local/lib/python3.10/dist-packages (from transformers) (0.26.2)\n",
            "Requirement already satisfied: numpy>=1.17 in /usr/local/lib/python3.10/dist-packages (from transformers) (1.26.4)\n",
            "Requirement already satisfied: packaging>=20.0 in /usr/local/lib/python3.10/dist-packages (from transformers) (24.2)\n",
            "Requirement already satisfied: pyyaml>=5.1 in /usr/local/lib/python3.10/dist-packages (from transformers) (6.0.2)\n",
            "Requirement already satisfied: requests in /usr/local/lib/python3.10/dist-packages (from transformers) (2.32.3)\n",
            "Requirement already satisfied: safetensors>=0.4.1 in /usr/local/lib/python3.10/dist-packages (from transformers) (0.4.5)\n",
            "Requirement already satisfied: tokenizers<0.21,>=0.20 in /usr/local/lib/python3.10/dist-packages (from transformers) (0.20.3)\n",
            "Requirement already satisfied: fsspec>=2023.5.0 in /usr/local/lib/python3.10/dist-packages (from huggingface-hub<1.0,>=0.23.2->transformers) (2024.10.0)\n",
            "Requirement already satisfied: typing-extensions>=3.7.4.3 in /usr/local/lib/python3.10/dist-packages (from huggingface-hub<1.0,>=0.23.2->transformers) (4.12.2)\n",
            "Requirement already satisfied: charset-normalizer<4,>=2 in /usr/local/lib/python3.10/dist-packages (from requests->transformers) (3.4.0)\n",
            "Requirement already satisfied: idna<4,>=2.5 in /usr/local/lib/python3.10/dist-packages (from requests->transformers) (3.10)\n",
            "Requirement already satisfied: urllib3<3,>=1.21.1 in /usr/local/lib/python3.10/dist-packages (from requests->transformers) (2.2.3)\n",
            "Requirement already satisfied: certifi>=2017.4.17 in /usr/local/lib/python3.10/dist-packages (from requests->transformers) (2024.8.30)\n"
          ]
        },
        {
          "output_type": "stream",
          "name": "stderr",
          "text": [
            "[nltk_data] Downloading package punkt to /root/nltk_data...\n",
            "[nltk_data]   Package punkt is already up-to-date!\n",
            "[nltk_data] Downloading package stopwords to /root/nltk_data...\n",
            "[nltk_data]   Package stopwords is already up-to-date!\n"
          ]
        },
        {
          "output_type": "stream",
          "name": "stdout",
          "text": [
            "¡Hola! Soy tu asistente. Escribe 'salir' para terminar.\n"
          ]
        }
      ],
      "source": [
        "# Paso 1: Configurar el entorno e instalar dependencias\n",
        "!pip install nltk transformers\n",
        "\n",
        "# Paso 2: Importar librerías necesarias\n",
        "import nltk\n",
        "from nltk.tokenize import word_tokenize\n",
        "from nltk.corpus import stopwords\n",
        "from transformers import pipeline\n",
        "\n",
        "# Descargar recursos necesarios de NLTK\n",
        "nltk.download('punkt')\n",
        "nltk.download('stopwords')\n",
        "\n",
        "# Paso 3: Configurar las respuestas predefinidas\n",
        "responses = {\n",
        "    \"hola\": \"¡Hola! ¿En qué puedo ayudarte?\",\n",
        "    \"¿qué es IA?\": \"La inteligencia artificial es un campo de estudio que busca crear sistemas capaces de realizar tareas que normalmente requieren inteligencia humana.\",\n",
        "    \"adiós\": \"¡Hasta luego! Espero haberte ayudado.\",\n",
        "    \"default\": \"Lo siento, no entendí eso. ¿Puedes reformular tu pregunta?\"\n",
        "}\n",
        "\n",
        "# Paso 4: Función para preprocesar texto\n",
        "def preprocess_text(user_input):\n",
        "    tokens = word_tokenize(user_input.lower())\n",
        "    stop_words = set(stopwords.words('spanish'))\n",
        "    return [word for word in tokens if word not in stop_words]\n",
        "\n",
        "# Paso 5: Chatbot basado en reglas simples\n",
        "def chatbot_rule_based(user_input):\n",
        "    processed_input = \" \".join(preprocess_text(user_input))\n",
        "    response = responses.get(processed_input, responses[\"default\"])\n",
        "    return response\n",
        "\n",
        "# Paso 6: Configurar un modelo preentrenado de Hugging Face (opcional)\n",
        "qa_pipeline = pipeline(\"question-answering\", model=\"distilbert-base-cased-distilled-squad\")\n",
        "\n",
        "def chatbot_ai(user_input, context=\"La inteligencia artificial se utiliza para resolver problemas complejos.\"):\n",
        "    try:\n",
        "        answer = qa_pipeline(question=user_input, context=context)\n",
        "        return answer['answer']\n",
        "    except Exception as e:\n",
        "        return \"Lo siento, no tengo una respuesta para eso.\"\n",
        "\n",
        "# Paso 7: Interfaz simple para el chatbot\n",
        "def chatbot_interface():\n",
        "    print(\"¡Hola! Soy tu asistente. Escribe 'salir' para terminar.\")\n",
        "    while True:\n",
        "        user_input = input(\"Tú: \")\n",
        "        if user_input.lower() == \"salir\":\n",
        "            print(\"ChatBot: ¡Adiós!\")\n",
        "            break\n",
        "\n",
        "        # Respuesta basada en reglas\n",
        "        response = chatbot_rule_based(user_input)\n",
        "        print(f\"ChatBot (Reglas): {response}\")\n",
        "\n",
        "        # Respuesta basada en IA\n",
        "        ai_response = chatbot_ai(user_input)\n",
        "        print(f\"ChatBot (IA): {ai_response}\")\n",
        "\n",
        "# Ejecutar el chatbot\n",
        "chatbot_interface()\n"
      ]
    }
  ]
}